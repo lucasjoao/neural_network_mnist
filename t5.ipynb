{
 "cells": [
  {
   "cell_type": "markdown",
   "metadata": {},
   "source": [
    "Import dos módulos necessários e declaração de constantes\n",
    "---"
   ]
  },
  {
   "cell_type": "code",
   "execution_count": 1,
   "metadata": {},
   "outputs": [
    {
     "name": "stderr",
     "output_type": "stream",
     "text": [
      "Using TensorFlow backend.\n"
     ]
    }
   ],
   "source": [
    "import keras\n",
    "import numpy as np\n",
    "from keras.datasets import mnist\n",
    "from keras.models import Sequential\n",
    "from keras.layers import Dense, Dropout, Flatten\n",
    "from keras.layers import Conv2D, MaxPooling2D\n",
    "from sklearn.model_selection import train_test_split\n",
    "\n",
    "# quantidade de canais que as imagens de entrada possuem\n",
    "# escalar cor de cinza, entao 1\n",
    "CHANNEL = 1\n",
    "# valor da largura e da altura das imagens de entrada\n",
    "WIDTH_HEIGHT = 20"
   ]
  },
  {
   "cell_type": "markdown",
   "metadata": {},
   "source": [
    "Load do arquivo de dados\n",
    "---"
   ]
  },
  {
   "cell_type": "code",
   "execution_count": 2,
   "metadata": {},
   "outputs": [],
   "source": [
    "load = np.loadtxt('exdata.csv', delimiter=',')\n",
    "\n",
    "# cada coluna tem um padrao de digito\n",
    "data = load[:-1].T\n",
    "\n",
    "# a ultima linha eh a classificacao do digito\n",
    "result = load[-1] \n",
    "# digito 0 corresponde ao valor 10\n",
    "result[result == 10] = 0"
   ]
  },
  {
   "cell_type": "markdown",
   "metadata": {},
   "source": [
    "Pré-processamento dos dados e das classes\n",
    "---"
   ]
  },
  {
   "cell_type": "code",
   "execution_count": 3,
   "metadata": {},
   "outputs": [],
   "source": [
    "# trasformar cada linha (digito) em uma matriz 20 x 20 x 1\n",
    "data = data.reshape(data.shape[0], WIDTH_HEIGHT, WIDTH_HEIGHT, CHANNEL)\n",
    "\n",
    "# converte array de 1 dimensao para uma matriz de dimensao 10\n",
    "# ou seja, criar 10 classes, uma para cada digito possivel\n",
    "result = keras.utils.to_categorical(result, 10)"
   ]
  },
  {
   "cell_type": "markdown",
   "metadata": {},
   "source": [
    "Separação dos dados em treinamento e teste\n",
    "---"
   ]
  },
  {
   "cell_type": "code",
   "execution_count": 4,
   "metadata": {},
   "outputs": [],
   "source": [
    "in_train, in_test, out_train, out_test = train_test_split(data, \n",
    "                                                          result,\n",
    "                                                          test_size=(25/100),\n",
    "                                                          train_size=(75/100))"
   ]
  },
  {
   "cell_type": "markdown",
   "metadata": {},
   "source": [
    "Definição da arquitetura da rede neural\n",
    "---"
   ]
  },
  {
   "cell_type": "code",
   "execution_count": 5,
   "metadata": {},
   "outputs": [],
   "source": [
    "# 'pilha' de camadas lineares\n",
    "model = Sequential()\n",
    "\n",
    "# primeira camada precisa saber o que espera de entrada\n",
    "# Conv2D cria uma camada de 'convolution' (add cada elemento da imagem com o seu vizinho local)\n",
    "# isso eh feito atraves do input_shape\n",
    "# 32 eh o numero de filtros\n",
    "# relu = rectified linear unit\n",
    "model.add(Conv2D(32, \n",
    "                 kernel_size=(3, 3), \n",
    "                 activation='relu', \n",
    "                 input_shape=(WIDTH_HEIGHT, WIDTH_HEIGHT, CHANNEL)))\n",
    "model.add(Conv2D(64, (3, 3), activation='relu'))\n",
    "\n",
    "# MaxPooling2D cria uma camada que faz um processo de discretizacao baseada em amostra\n",
    "model.add(MaxPooling2D(pool_size=(2, 2)))\n",
    "\n",
    "# Dropout cria uma camada de regularizacao\n",
    "# 0.25 eh a fracao da quantidade de entrada que entrara na camada\n",
    "model.add(Dropout(0.25))\n",
    "\n",
    "# Flatten cria uma camada que 'flatteniza'\n",
    "model.add(Flatten())\n",
    "\n",
    "# Dense cria uma camada que representa uma multiplicacao de matrizes\n",
    "# 128 eh a dimensionalidade da saida\n",
    "model.add(Dense(128, activation='relu'))\n",
    "\n",
    "model.add(Dropout(0.5))\n",
    "model.add(Dense(10, activation='softmax'))"
   ]
  },
  {
   "cell_type": "markdown",
   "metadata": {},
   "source": [
    "Compilação da rede neural\n",
    "---"
   ]
  },
  {
   "cell_type": "code",
   "execution_count": 6,
   "metadata": {},
   "outputs": [],
   "source": [
    "# configuracao de que como sera o aprendizado de processo\n",
    "# para qualquer problema de classificacao deve-se usar o accuracy\n",
    "model.compile(loss=keras.losses.categorical_crossentropy,\n",
    "              optimizer=keras.optimizers.Adadelta(),\n",
    "              metrics=['accuracy'])"
   ]
  },
  {
   "cell_type": "markdown",
   "metadata": {},
   "source": [
    "Input dos dados de treinamento\n",
    "---"
   ]
  },
  {
   "cell_type": "code",
   "execution_count": 7,
   "metadata": {},
   "outputs": [
    {
     "name": "stdout",
     "output_type": "stream",
     "text": [
      "Train on 3750 samples, validate on 1250 samples\n",
      "Epoch 1/10\n",
      "3750/3750 [==============================] - 5s 1ms/step - loss: 1.4011 - acc: 0.5424 - val_loss: 0.4532 - val_acc: 0.8680\n",
      "Epoch 2/10\n",
      "3750/3750 [==============================] - 4s 955us/step - loss: 0.5110 - acc: 0.8355 - val_loss: 0.2742 - val_acc: 0.9184\n",
      "Epoch 3/10\n",
      "3750/3750 [==============================] - 4s 1ms/step - loss: 0.3070 - acc: 0.9051 - val_loss: 0.1576 - val_acc: 0.9568\n",
      "Epoch 4/10\n",
      "3750/3750 [==============================] - 4s 959us/step - loss: 0.2305 - acc: 0.9339 - val_loss: 0.1735 - val_acc: 0.9544\n",
      "Epoch 5/10\n",
      "3750/3750 [==============================] - 4s 941us/step - loss: 0.1849 - acc: 0.9400 - val_loss: 0.1155 - val_acc: 0.9672\n",
      "Epoch 6/10\n",
      "3750/3750 [==============================] - 4s 959us/step - loss: 0.1493 - acc: 0.9501 - val_loss: 0.1375 - val_acc: 0.9640\n",
      "Epoch 7/10\n",
      "3750/3750 [==============================] - 4s 940us/step - loss: 0.1360 - acc: 0.9589 - val_loss: 0.1039 - val_acc: 0.9744\n",
      "Epoch 8/10\n",
      "3750/3750 [==============================] - 4s 940us/step - loss: 0.1150 - acc: 0.9685 - val_loss: 0.0903 - val_acc: 0.9736\n",
      "Epoch 9/10\n",
      "3750/3750 [==============================] - 4s 960us/step - loss: 0.0974 - acc: 0.9715 - val_loss: 0.0871 - val_acc: 0.9752\n",
      "Epoch 10/10\n",
      "3750/3750 [==============================] - 4s 956us/step - loss: 0.0870 - acc: 0.9723 - val_loss: 0.0950 - val_acc: 0.9712\n"
     ]
    },
    {
     "data": {
      "text/plain": [
       "<keras.callbacks.History at 0x7fc561f2edd8>"
      ]
     },
     "execution_count": 7,
     "metadata": {},
     "output_type": "execute_result"
    }
   ],
   "source": [
    "# batch_size eh o numero de amostras por update do gradiente\n",
    "# epochs = um epoch eh uma iteracao sobre os dados fornecidos\n",
    "model.fit(in_train, out_train,\n",
    "          batch_size=128,\n",
    "          epochs=10,\n",
    "          verbose=1,\n",
    "          validation_data=(in_test, out_test))"
   ]
  },
  {
   "cell_type": "markdown",
   "metadata": {},
   "source": [
    "Avaliação com os dados de teste\n",
    "---"
   ]
  },
  {
   "cell_type": "code",
   "execution_count": 8,
   "metadata": {},
   "outputs": [
    {
     "name": "stdout",
     "output_type": "stream",
     "text": [
      "Test loss: 0.09496196347773075\n",
      "Test accuracy: 0.9712\n"
     ]
    }
   ],
   "source": [
    "# valores do modelo no modo de teste \n",
    "score = model.evaluate(in_test, out_test, verbose=0)\n",
    "print('Test loss:', score[0])\n",
    "print('Test accuracy:', score[1])"
   ]
  }
 ],
 "metadata": {
  "kernelspec": {
   "display_name": "Python 3",
   "language": "python",
   "name": "python3"
  },
  "language_info": {
   "codemirror_mode": {
    "name": "ipython",
    "version": 3
   },
   "file_extension": ".py",
   "mimetype": "text/x-python",
   "name": "python",
   "nbconvert_exporter": "python",
   "pygments_lexer": "ipython3",
   "version": "3.6.5"
  }
 },
 "nbformat": 4,
 "nbformat_minor": 2
}
