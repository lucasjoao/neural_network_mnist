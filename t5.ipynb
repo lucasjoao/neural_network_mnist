{
 "cells": [
  {
   "cell_type": "markdown",
   "metadata": {},
   "source": [
    "Import dos módulos necessários\n",
    "---"
   ]
  },
  {
   "cell_type": "code",
   "execution_count": 1,
   "metadata": {},
   "outputs": [
    {
     "name": "stderr",
     "output_type": "stream",
     "text": [
      "Using TensorFlow backend.\n"
     ]
    }
   ],
   "source": [
    "import keras\n",
    "import numpy as np\n",
    "from keras.datasets import mnist\n",
    "from keras.models import Sequential\n",
    "from keras.layers import Dense, Dropout, Flatten\n",
    "from keras.layers import Conv2D, MaxPooling2D\n",
    "from sklearn.model_selection import train_test_split"
   ]
  },
  {
   "cell_type": "markdown",
   "metadata": {},
   "source": [
    "Load do arquivo de dados\n",
    "---"
   ]
  },
  {
   "cell_type": "code",
   "execution_count": 2,
   "metadata": {},
   "outputs": [],
   "source": [
    "load = np.loadtxt('exdata.csv', delimiter=',')\n",
    "\n",
    "# cada coluna tem um padrão de dígito\n",
    "data = load[:-1].T\n",
    "\n",
    "# a última linha é a classificação do dígito\n",
    "result = load[-1] \n",
    " # a saída é o valor correto do dígito, sendo que o dígito 0 corresponde ao valor 10\n",
    "result[result == 10] = 0"
   ]
  },
  {
   "cell_type": "markdown",
   "metadata": {},
   "source": [
    "Pré-processamento dos dados e das classes\n",
    "---"
   ]
  },
  {
   "cell_type": "code",
   "execution_count": 3,
   "metadata": {},
   "outputs": [],
   "source": [
    "# trasformar cada linha (digito) em uma matriz 20 x 20\n",
    "data = data.reshape(data.shape[0], 20, 20, 1)\n",
    "\n",
    "# converte array de 1 dimensão para uma matriz de dimensão 10\n",
    "result = keras.utils.to_categorical(result, 10)"
   ]
  },
  {
   "cell_type": "markdown",
   "metadata": {},
   "source": [
    "Separação dos dados em treinamento e teste\n",
    "---"
   ]
  },
  {
   "cell_type": "code",
   "execution_count": 4,
   "metadata": {},
   "outputs": [],
   "source": [
    "in_train, in_test, out_train, out_test = train_test_split(data, result, test_size=(25/100), train_size=(75/100))"
   ]
  },
  {
   "cell_type": "markdown",
   "metadata": {},
   "source": [
    "Definição da arquitetura da rede neural\n",
    "---"
   ]
  },
  {
   "cell_type": "code",
   "execution_count": 5,
   "metadata": {},
   "outputs": [],
   "source": [
    "model = Sequential()\n",
    "model.add(Conv2D(32, kernel_size=(3, 3), activation='relu', input_shape=(20, 20, 1)))\n",
    "model.add(Conv2D(64, (3, 3), activation='relu'))\n",
    "model.add(MaxPooling2D(pool_size=(2, 2)))\n",
    "model.add(Dropout(0.25))\n",
    "model.add(Flatten())\n",
    "model.add(Dense(128, activation='relu'))\n",
    "model.add(Dropout(0.5))\n",
    "model.add(Dense(10, activation='softmax'))"
   ]
  },
  {
   "cell_type": "markdown",
   "metadata": {},
   "source": [
    "Compilação da rede neural\n",
    "---"
   ]
  },
  {
   "cell_type": "code",
   "execution_count": 6,
   "metadata": {},
   "outputs": [],
   "source": [
    "model.compile(loss=keras.losses.categorical_crossentropy,\n",
    "              optimizer=keras.optimizers.Adadelta(),\n",
    "              metrics=['accuracy'])"
   ]
  },
  {
   "cell_type": "markdown",
   "metadata": {},
   "source": [
    "Input dos dados de treinamento\n",
    "---"
   ]
  },
  {
   "cell_type": "code",
   "execution_count": 7,
   "metadata": {},
   "outputs": [
    {
     "name": "stdout",
     "output_type": "stream",
     "text": [
      "Train on 3750 samples, validate on 1250 samples\n",
      "Epoch 1/10\n",
      "3750/3750 [==============================] - 3s 775us/step - loss: 1.4339 - acc: 0.5277 - val_loss: 0.6131 - val_acc: 0.8232\n",
      "Epoch 2/10\n",
      "3750/3750 [==============================] - 3s 731us/step - loss: 0.4592 - acc: 0.8563 - val_loss: 0.2562 - val_acc: 0.9272\n",
      "Epoch 3/10\n",
      "3750/3750 [==============================] - 3s 730us/step - loss: 0.3204 - acc: 0.9120 - val_loss: 0.1916 - val_acc: 0.9472\n",
      "Epoch 4/10\n",
      "3750/3750 [==============================] - 3s 728us/step - loss: 0.2313 - acc: 0.9360 - val_loss: 0.2390 - val_acc: 0.9232\n",
      "Epoch 5/10\n",
      "3750/3750 [==============================] - 3s 729us/step - loss: 0.1857 - acc: 0.9477 - val_loss: 0.1324 - val_acc: 0.9608\n",
      "Epoch 6/10\n",
      "3750/3750 [==============================] - 3s 729us/step - loss: 0.1687 - acc: 0.9531 - val_loss: 0.1109 - val_acc: 0.9704\n",
      "Epoch 7/10\n",
      "3750/3750 [==============================] - 3s 732us/step - loss: 0.1369 - acc: 0.9619 - val_loss: 0.1026 - val_acc: 0.9680\n",
      "Epoch 8/10\n",
      "3750/3750 [==============================] - 3s 731us/step - loss: 0.1185 - acc: 0.9661 - val_loss: 0.0965 - val_acc: 0.9736\n",
      "Epoch 9/10\n",
      "3750/3750 [==============================] - 3s 732us/step - loss: 0.0930 - acc: 0.9733 - val_loss: 0.1178 - val_acc: 0.9680\n",
      "Epoch 10/10\n",
      "3750/3750 [==============================] - 3s 727us/step - loss: 0.1002 - acc: 0.9709 - val_loss: 0.0902 - val_acc: 0.9712\n"
     ]
    },
    {
     "data": {
      "text/plain": [
       "<keras.callbacks.History at 0x7fd8ee73d240>"
      ]
     },
     "execution_count": 7,
     "metadata": {},
     "output_type": "execute_result"
    }
   ],
   "source": [
    "model.fit(in_train, out_train,\n",
    "          batch_size=128,\n",
    "          epochs=10,\n",
    "          verbose=1,\n",
    "          validation_data=(in_test, out_test))"
   ]
  },
  {
   "cell_type": "markdown",
   "metadata": {},
   "source": [
    "Avaliação com os dados de teste\n",
    "---"
   ]
  },
  {
   "cell_type": "code",
   "execution_count": 8,
   "metadata": {},
   "outputs": [
    {
     "name": "stdout",
     "output_type": "stream",
     "text": [
      "Test loss: 0.090190990054328\n",
      "Test accuracy: 0.9712\n"
     ]
    }
   ],
   "source": [
    "score = model.evaluate(in_test, out_test, verbose=0)\n",
    "print('Test loss:', score[0])\n",
    "print('Test accuracy:', score[1])"
   ]
  }
 ],
 "metadata": {
  "kernelspec": {
   "display_name": "Python 3",
   "language": "python",
   "name": "python3"
  },
  "language_info": {
   "codemirror_mode": {
    "name": "ipython",
    "version": 3
   },
   "file_extension": ".py",
   "mimetype": "text/x-python",
   "name": "python",
   "nbconvert_exporter": "python",
   "pygments_lexer": "ipython3",
   "version": "3.6.5"
  }
 },
 "nbformat": 4,
 "nbformat_minor": 2
}
